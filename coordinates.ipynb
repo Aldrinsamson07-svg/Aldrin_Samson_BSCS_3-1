{
 "cells": [
  {
   "cell_type": "code",
   "execution_count": 34,
   "id": "6004baed-e7ee-4df8-8942-f4f1e55d746e",
   "metadata": {},
   "outputs": [],
   "source": [
    "#Part 2: Tuples & Sets Laboratory\n",
    "#Task 2.1: Coordinate System with Tuples\n",
    "import math"
   ]
  },
  {
   "cell_type": "code",
   "execution_count": 36,
   "id": "c030573c-71a0-474c-8c14-2974e88d9a74",
   "metadata": {},
   "outputs": [],
   "source": [
    "#Function to calculate the distance between two points\n",
    "def calculate_distance(point1, point2):\n",
    "    x1, y1 = point1\n",
    "    x2, y2 = point2\n",
    "    return math.sqrt((x2 - x1)**2 + (y2 - y1)**2)\n",
    "\n",
    "#Function to calculate the midpoint between two points\n",
    "def calculate_midpoint(point1, point2):\n",
    "    x1, y1 = point1\n",
    "    x2, y2 = point2\n",
    "    return ((x1 + x2) / 2, (y1 + y2) / 2)"
   ]
  },
  {
   "cell_type": "code",
   "execution_count": 38,
   "id": "bfcab02f-5580-4407-b128-218105356abe",
   "metadata": {},
   "outputs": [],
   "source": [
    "#TRY\n",
    "point1 = (1, 2)\n",
    "point2 = (4, 6)\n",
    "point3 = (7, 8)"
   ]
  },
  {
   "cell_type": "code",
   "execution_count": 40,
   "id": "3118cb22-105c-47a5-a12d-5be77b25e47a",
   "metadata": {},
   "outputs": [],
   "source": [
    "points = (point1, point2, point3)\n",
    "distance = calculate_distance(point1, point2)\n",
    "midpoint = calculate_midpoint(point1, point2)\n"
   ]
  },
  {
   "cell_type": "code",
   "execution_count": 42,
   "id": "5e16aa03-3211-4396-85aa-59e47902db7a",
   "metadata": {},
   "outputs": [
    {
     "name": "stdout",
     "output_type": "stream",
     "text": [
      "Error: 'tuple' object does not support item assignment\n"
     ]
    }
   ],
   "source": [
    "# Test the immutability of tuples by attempting to modify a tuple (this should raise an error)\n",
    "try:\n",
    "    point1[0] = 10  # Trying to modify the tuple (this will cause an error)\n",
    "except TypeError as e:\n",
    "    print(f\"Error: {e}\")"
   ]
  },
  {
   "cell_type": "code",
   "execution_count": 44,
   "id": "45fee47e-218d-48da-8eed-8df07f43e8b2",
   "metadata": {},
   "outputs": [
    {
     "name": "stdout",
     "output_type": "stream",
     "text": [
      "Distance between point1 and point2: 5.0\n",
      "Midpoint between point1 and point2: (2.5, 4.0)\n",
      "All points: ((1, 2), (4, 6), (7, 8))\n"
     ]
    }
   ],
   "source": [
    "# Display results\n",
    "print(f\"Distance between point1 and point2: {distance}\")\n",
    "print(f\"Midpoint between point1 and point2: {midpoint}\")\n",
    "print(f\"All points: {points}\")"
   ]
  },
  {
   "cell_type": "code",
   "execution_count": 46,
   "id": "6b22571f-2958-47d3-a532-b6506295ce27",
   "metadata": {},
   "outputs": [],
   "source": [
    "#Task 2.2: Unique Word Counter with Sets\n",
    "from collections import Counter\n"
   ]
  },
  {
   "cell_type": "code",
   "execution_count": 48,
   "id": "ab5b0760-178f-465a-9896-d328945bb27c",
   "metadata": {},
   "outputs": [],
   "source": [
    "def unique_word_counter(text):\n",
    "    words = text.lower().split()  # Split text into words and convert to lowercase\n",
    "    word_set = set(words)         # Create a set of unique words\n",
    "    total_words = len(words)      # Count total words\n",
    "    unique_words = len(word_set)  # Count unique words\n",
    "    word_frequency = Counter(words)  # Count frequency of each word\n",
    "    return word_set, total_words, unique_words, word_frequency"
   ]
  },
  {
   "cell_type": "code",
   "execution_count": 52,
   "id": "407cf2ae-3145-463e-8774-4ed832dcb06d",
   "metadata": {},
   "outputs": [],
   "source": [
    "sample_text = \"Python is a programming language. Python is easy to learn. Python is powerful.\"\n",
    "unique_words, total_words, unique_count, word_frequency = unique_word_counter(sample_text)"
   ]
  },
  {
   "cell_type": "code",
   "execution_count": 54,
   "id": "980fc5dd-82f5-47c7-9654-cdef86ce47e6",
   "metadata": {},
   "outputs": [
    {
     "name": "stdout",
     "output_type": "stream",
     "text": [
      "Unique Words: {'easy', 'language.', 'is', 'programming', 'learn.', 'a', 'to', 'powerful.', 'python'}\n",
      "Total Words: 13\n",
      "Unique Word Count: 9\n",
      "Word Frequency:\n",
      "python: 3\n",
      "is: 3\n",
      "a: 1\n",
      "programming: 1\n",
      "language.: 1\n",
      "easy: 1\n",
      "to: 1\n",
      "learn.: 1\n",
      "powerful.: 1\n"
     ]
    }
   ],
   "source": [
    "# Display results\n",
    "print(f\"Unique Words: {unique_words}\")\n",
    "print(f\"Total Words: {total_words}\")\n",
    "print(f\"Unique Word Count: {unique_count}\")\n",
    "print(\"Word Frequency:\")\n",
    "for word, freq in word_frequency.items():\n",
    "    print(f\"{word}: {freq}\")"
   ]
  },
  {
   "cell_type": "code",
   "execution_count": null,
   "id": "7c8c4ae0-6790-4832-8f68-6a4c04e2cda9",
   "metadata": {},
   "outputs": [],
   "source": []
  }
 ],
 "metadata": {
  "kernelspec": {
   "display_name": "Python [conda env:base] *",
   "language": "python",
   "name": "conda-base-py"
  },
  "language_info": {
   "codemirror_mode": {
    "name": "ipython",
    "version": 3
   },
   "file_extension": ".py",
   "mimetype": "text/x-python",
   "name": "python",
   "nbconvert_exporter": "python",
   "pygments_lexer": "ipython3",
   "version": "3.12.7"
  }
 },
 "nbformat": 4,
 "nbformat_minor": 5
}
