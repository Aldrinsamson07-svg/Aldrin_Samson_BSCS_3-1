{
 "cells": [
  {
   "cell_type": "code",
   "execution_count": 157,
   "id": "95ed7fdc-c4a1-46fb-ac34-776ae2322b84",
   "metadata": {},
   "outputs": [],
   "source": [
    "# Student Grade Manager\n",
    "\n",
    "# Part 1: Lists Laboratory\n",
    "student_names = []\n",
    "student_grades = []"
   ]
  },
  {
   "cell_type": "code",
   "execution_count": 159,
   "id": "f9c637cb-53a6-443b-9076-2461672edc9b",
   "metadata": {},
   "outputs": [],
   "source": [
    "def add_a_student(name, grade):\n",
    "    student_names.append(name)\n",
    "    student_grades.append(grade)\n",
    "    print(f\"Added {name} with grade {grade}\")"
   ]
  },
  {
   "cell_type": "code",
   "execution_count": 161,
   "id": "ff5855f5-fad4-40e6-970a-d361106cbe1e",
   "metadata": {},
   "outputs": [],
   "source": [
    "def calculate_the_average():\n",
    "    return sum(student_grades) / len(student_grades)\n",
    "\n",
    "def find_the_highest_grade():\n",
    "    return max(student_grades)\n",
    "\n",
    "def display_all():\n",
    "    for name, grade in zip(student_names, student_grades):\n",
    "        print(f\"{name}: {grade}\")"
   ]
  },
  {
   "cell_type": "code",
   "execution_count": 163,
   "id": "a0e33391-0edd-4c9f-9d00-0b6edccb6867",
   "metadata": {},
   "outputs": [
    {
     "name": "stdout",
     "output_type": "stream",
     "text": [
      "Added Aldrin with grade 90\n",
      "Added sir yamat with grade 90\n",
      "Added sir benedick with grade 96\n"
     ]
    }
   ],
   "source": [
    "add_student('Aldrin', 90)\n",
    "add_student('sir yamat', 90)\n",
    "add_student('sir benedick', 96)"
   ]
  },
  {
   "cell_type": "code",
   "execution_count": 165,
   "id": "49ff9ac1-10f7-4b07-8899-314a50b54c38",
   "metadata": {},
   "outputs": [
    {
     "name": "stdout",
     "output_type": "stream",
     "text": [
      "Aldrin: 90\n",
      "sir yamat: 90\n",
      "sir benedick: 96\n",
      "Average Grade: 92.0\n",
      "Highest Grade: 96\n"
     ]
    }
   ],
   "source": [
    "display_all()\n",
    "print(f\"Average Grade: {calculate_the_average()}\")\n",
    "print(f\"Highest Grade: {find_the_highest_grade()}\")"
   ]
  },
  {
   "cell_type": "code",
   "execution_count": null,
   "id": "40c00f65-cd5d-4697-9d3c-7ffd19b339a2",
   "metadata": {},
   "outputs": [],
   "source": [
    "# Part 1.2: List Operations Practice\n",
    "numbers = [5, 2, 8, 1, 9, 3]\n"
   ]
  }
 ],
 "metadata": {
  "kernelspec": {
   "display_name": "Python [conda env:base] *",
   "language": "python",
   "name": "conda-base-py"
  },
  "language_info": {
   "codemirror_mode": {
    "name": "ipython",
    "version": 3
   },
   "file_extension": ".py",
   "mimetype": "text/x-python",
   "name": "python",
   "nbconvert_exporter": "python",
   "pygments_lexer": "ipython3",
   "version": "3.12.7"
  }
 },
 "nbformat": 4,
 "nbformat_minor": 5
}
