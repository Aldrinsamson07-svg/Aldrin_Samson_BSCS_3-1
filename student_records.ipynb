{
 "cells": [
  {
   "cell_type": "code",
   "execution_count": 36,
   "id": "2f9f9492-49c1-4630-892f-b9f83bb925d7",
   "metadata": {},
   "outputs": [],
   "source": [
    "#Part 4: File Handling Laboratory\n",
    "#Task 4.1: Student Records File System\n",
    "import pickle"
   ]
  },
  {
   "cell_type": "code",
   "execution_count": 38,
   "id": "813652ce-6cb2-4903-8e9b-f7eb395bc554",
   "metadata": {},
   "outputs": [],
   "source": [
    "students = {\n",
    "    1: {'name': 'Alice', 'grade': 'A', 'major': 'Computer Science'},\n",
    "    2: {'name': 'Bob', 'grade': 'B', 'major': 'Mathematics'},\n",
    "    3: {'name': 'Charlie', 'grade': 'C', 'major': 'Physics'}\n",
    "}"
   ]
  },
  {
   "cell_type": "code",
   "execution_count": 40,
   "id": "5bf99859-5a1c-457e-a861-c91bac59dcde",
   "metadata": {},
   "outputs": [],
   "source": [
    "# Function to save student records using pickle\n",
    "def save_student_records(filename, student_data):\n",
    "    with open(filename, 'wb') as file:\n",
    "        pickle.dump(student_data, file)\n",
    "        print(f\"Student records saved to {filename}\")"
   ]
  },
  {
   "cell_type": "code",
   "execution_count": 42,
   "id": "d8e17539-294a-43ce-986d-5598eff0b71c",
   "metadata": {},
   "outputs": [],
   "source": [
    "# Function to load student records from pickle file\n",
    "def load_student_records(filename):\n",
    "    try:\n",
    "        with open(filename, 'rb') as file:\n",
    "            student_data = pickle.load(file)\n",
    "            print(f\"Student records loaded from {filename}\")\n",
    "            return student_data\n",
    "    except FileNotFoundError:\n",
    "        print(f\"Error: {filename} not found.\")\n",
    "        return None"
   ]
  },
  {
   "cell_type": "code",
   "execution_count": 44,
   "id": "f04b443b-fc49-4706-86f5-8b7c30116692",
   "metadata": {},
   "outputs": [],
   "source": [
    "# Function to export student records to a readable text file\n",
    "def export_student_records_to_text(filename, student_data):\n",
    "    try:\n",
    "        with open(filename, 'w') as file:\n",
    "            for student_id, details in student_data.items():\n",
    "                file.write(f\"ID: {student_id}, Name: {details['name']}, Grade: {details['grade']}, Major: {details['major']}\\n\")\n",
    "            print(f\"Student records exported to {filename}\")\n",
    "    except Exception as e:\n",
    "        print(f\"Error: {e}\")"
   ]
  },
  {
   "cell_type": "code",
   "execution_count": 46,
   "id": "945f03eb-acd2-4a9b-8b0f-4828e1ef7de3",
   "metadata": {},
   "outputs": [],
   "source": [
    "# Testing the functions\n",
    "pickle_filename = 'students.pkl'\n",
    "text_filename = 'students.txt'"
   ]
  },
  {
   "cell_type": "code",
   "execution_count": 48,
   "id": "9d9eed5f-ada1-40ad-afd4-ecb60a0963af",
   "metadata": {},
   "outputs": [
    {
     "name": "stdout",
     "output_type": "stream",
     "text": [
      "Student records saved to students.pkl\n",
      "Student records loaded from students.pkl\n",
      "{1: {'name': 'Alice', 'grade': 'A', 'major': 'Computer Science'}, 2: {'name': 'Bob', 'grade': 'B', 'major': 'Mathematics'}, 3: {'name': 'Charlie', 'grade': 'C', 'major': 'Physics'}}\n"
     ]
    }
   ],
   "source": [
    "# Save records\n",
    "save_student_records(pickle_filename, students)\n",
    "# Load records\n",
    "loaded_students = load_student_records(pickle_filename)\n",
    "if loaded_students:\n",
    "    print(loaded_students)"
   ]
  },
  {
   "cell_type": "code",
   "execution_count": 50,
   "id": "ce9e40d0-1d52-4323-85c2-b703b3bce183",
   "metadata": {},
   "outputs": [
    {
     "name": "stdout",
     "output_type": "stream",
     "text": [
      "Student records exported to students.txt\n"
     ]
    }
   ],
   "source": [
    "export_student_records_to_text(text_filename, students)"
   ]
  },
  {
   "cell_type": "code",
   "execution_count": 52,
   "id": "650909c0-28be-4d1d-a697-84f996fdcad1",
   "metadata": {},
   "outputs": [],
   "source": [
    "#Task 4.2: File Operations Practice"
   ]
  },
  {
   "cell_type": "code",
   "execution_count": 54,
   "id": "d9c00378-4364-491b-9a26-6fe0baa7fcf3",
   "metadata": {},
   "outputs": [],
   "source": [
    "# Function to demonstrate writing to a file ('w' mode)\n",
    "def write_to_file(filename, content):\n",
    "    with open(filename, 'w') as file:\n",
    "        file.write(content)\n",
    "        print(f\"Content written to {filename}\")"
   ]
  },
  {
   "cell_type": "code",
   "execution_count": 56,
   "id": "1bdebe4b-d9b3-4e44-b181-1e281c55dc6a",
   "metadata": {},
   "outputs": [],
   "source": [
    "# Function to demonstrate reading from a file ('r' mode)\n",
    "def read_from_file(filename):\n",
    "    try:\n",
    "        with open(filename, 'r') as file:\n",
    "            content = file.read()\n",
    "            print(f\"Content read from {filename}:\\n{content}\")\n",
    "            return content\n",
    "    except FileNotFoundError:\n",
    "        print(f\"Error: {filename} not found.\")\n",
    "        return None"
   ]
  },
  {
   "cell_type": "code",
   "execution_count": 58,
   "id": "c4359cbd-0645-4fba-bfa0-8ba39d5cb248",
   "metadata": {},
   "outputs": [],
   "source": [
    "# Function to demonstrate appending to a file ('a' mode)\n",
    "def append_to_file(filename, content):\n",
    "    with open(filename, 'a') as file:\n",
    "        file.write(content)\n",
    "        print(f\"Content appended to {filename}\")"
   ]
  },
  {
   "cell_type": "code",
   "execution_count": null,
   "id": "7202b67e-1e1c-476f-88bf-9917d5927758",
   "metadata": {},
   "outputs": [],
   "source": [
    "# Testing the functions\n",
    "file_name = 'example.txt'\n",
    "write_content = \"This is the first line of text.\\n\"\n",
    "append_content = \"This is the appended line of text.\\"
   ]
  }
 ],
 "metadata": {
  "kernelspec": {
   "display_name": "Python [conda env:base] *",
   "language": "python",
   "name": "conda-base-py"
  },
  "language_info": {
   "codemirror_mode": {
    "name": "ipython",
    "version": 3
   },
   "file_extension": ".py",
   "mimetype": "text/x-python",
   "name": "python",
   "nbconvert_exporter": "python",
   "pygments_lexer": "ipython3",
   "version": "3.12.7"
  }
 },
 "nbformat": 4,
 "nbformat_minor": 5
}
