{
 "cells": [
  {
   "cell_type": "code",
   "execution_count": 5,
   "id": "4471a05a-c212-4437-abcd-8e5be76abfda",
   "metadata": {},
   "outputs": [],
   "source": [
    "#Part 3.1: Student Database\n",
    "#Task 3.1: Student Database\n",
    "students = {}"
   ]
  },
  {
   "cell_type": "code",
   "execution_count": 12,
   "id": "f4daade8-173a-4fd1-bdff-b8cfe188ed53",
   "metadata": {},
   "outputs": [],
   "source": [
    "# Function to add a student with ID, name, grade, and major\n",
    "def add_student(student_id, name, grade, major):\n",
    "    students[student_id] = {\n",
    "        'name': name,\n",
    "        'grade': grade,\n",
    "        'major': major\n",
    "    }\n",
    "    print(f\"Added student {name} with ID {student_id}\")"
   ]
  },
  {
   "cell_type": "code",
   "execution_count": 22,
   "id": "2cc8d67b-b1ad-41c9-a63b-511073a82052",
   "metadata": {},
   "outputs": [],
   "source": [
    "# Function to retrieve student information by ID\n",
    "def retrieve_student(student_id):\n",
    "    student_info = students.get(student_id, \"Student not found.\")\n",
    "    return student_info"
   ]
  },
  {
   "cell_type": "code",
   "execution_count": 24,
   "id": "d36871a4-8f5f-418a-8d29-a27be757f390",
   "metadata": {},
   "outputs": [],
   "source": [
    "# Function to update a student's grade\n",
    "def update_student_grade(student_id, new_grade):\n",
    "    if student_id in students:\n",
    "        students[student_id]['grade'] = new_grade\n",
    "        print(f\"Updated grade for student ID {student_id} to {new_grade}\")\n",
    "    else:\n",
    "        print(\"Student not found.\")"
   ]
  },
  {
   "cell_type": "code",
   "execution_count": 26,
   "id": "8e15ff7d-973e-4267-bfe4-61e607b0c7f7",
   "metadata": {},
   "outputs": [],
   "source": [
    "# Function to display all students\n",
    "def display_all_students():\n",
    "    print(\"\\nAll Students:\")\n",
    "    for student_id, info in students.items():\n",
    "        print(f\"ID: {student_id}, Name: {info['name']}, Grade: {info['grade']}, Major: {info['major']}\")"
   ]
  },
  {
   "cell_type": "code",
   "execution_count": 28,
   "id": "b775ef9c-9f6a-4247-abed-9f3be01f35e5",
   "metadata": {},
   "outputs": [
    {
     "name": "stdout",
     "output_type": "stream",
     "text": [
      "Added student Alice with ID 1\n",
      "Added student Bob with ID 2\n",
      "Added student Charlie with ID 3\n"
     ]
    }
   ],
   "source": [
    "# Testing with sample students\n",
    "add_student(1, 'Alice', 'A', 'Computer Science')\n",
    "add_student(2, 'Bob', 'B', 'Mathematics')\n",
    "add_student(3, 'Charlie', 'C', 'Physics')"
   ]
  },
  {
   "cell_type": "code",
   "execution_count": 30,
   "id": "62b55f65-bf10-4bd2-9670-4ce4e17cef91",
   "metadata": {},
   "outputs": [
    {
     "name": "stdout",
     "output_type": "stream",
     "text": [
      "{'name': 'Alice', 'grade': 'A', 'major': 'Computer Science'}\n",
      "Updated grade for student ID 2 to A+\n",
      "\n",
      "All Students:\n",
      "ID: 1, Name: Alice, Grade: A, Major: Computer Science\n",
      "ID: 2, Name: Bob, Grade: A+, Major: Mathematics\n",
      "ID: 3, Name: Charlie, Grade: C, Major: Physics\n"
     ]
    }
   ],
   "source": [
    "print(retrieve_student(1)) # Retrieve student by ID\n",
    "update_student_grade(2, 'A+') # Update grade for student ID 2\n",
    "display_all_students() # Display all students"
   ]
  },
  {
   "cell_type": "code",
   "execution_count": 34,
   "id": "8098f7a7-e4f4-4d31-aa50-b75bde930424",
   "metadata": {},
   "outputs": [],
   "source": [
    "#Task 3.2: Word Frequency Counter\n",
    "from collections import Counter"
   ]
  },
  {
   "cell_type": "code",
   "execution_count": 36,
   "id": "a517cabb-e381-4ff8-a30b-e3cd16a90065",
   "metadata": {},
   "outputs": [],
   "source": [
    "# Function to count word frequencies\n",
    "def word_frequency_counter(text):\n",
    "    words = text.lower().split()  # Convert to lowercase and split text into words\n",
    "    word_count = Counter(words)  # Count word frequencies using Counter\n",
    "    return word_count"
   ]
  },
  {
   "cell_type": "code",
   "execution_count": 40,
   "id": "1072e16d-bb39-4f0f-98cc-d1f3355f8ceb",
   "metadata": {},
   "outputs": [],
   "source": [
    "# Function to find the most common word\n",
    "def most_common_word(word_count):\n",
    "    most_common = word_count.most_common(1)  # Get the most common word\n",
    "    return most_common[0] if most_common else (\"No words\", 0)"
   ]
  },
  {
   "cell_type": "code",
   "execution_count": 42,
   "id": "6e7f1bcf-1c1a-4204-804e-7592496d483f",
   "metadata": {},
   "outputs": [],
   "source": [
    "sample_text = \"Python is a programming language. Python is easy to learn. Python is powerful.\"\n",
    "word_count = word_frequency_counter(sample_text)\n",
    "common_word, common_count = most_common_word(word_count)"
   ]
  },
  {
   "cell_type": "code",
   "execution_count": 44,
   "id": "760ef948-e810-420b-9513-782d8596ff32",
   "metadata": {},
   "outputs": [
    {
     "name": "stdout",
     "output_type": "stream",
     "text": [
      "Word Frequencies: Counter({'python': 3, 'is': 3, 'a': 1, 'programming': 1, 'language.': 1, 'easy': 1, 'to': 1, 'learn.': 1, 'powerful.': 1})\n",
      "Most Common Word: 'python' appears 3 times.\n"
     ]
    }
   ],
   "source": [
    "# Display results\n",
    "print(f\"Word Frequencies: {word_count}\")\n",
    "print(f\"Most Common Word: '{common_word}' appears {common_count} times.\")"
   ]
  },
  {
   "cell_type": "code",
   "execution_count": null,
   "id": "f8b5f7a5-5b25-475d-b947-5622cd8cea0c",
   "metadata": {},
   "outputs": [],
   "source": []
  }
 ],
 "metadata": {
  "kernelspec": {
   "display_name": "Python [conda env:base] *",
   "language": "python",
   "name": "conda-base-py"
  },
  "language_info": {
   "codemirror_mode": {
    "name": "ipython",
    "version": 3
   },
   "file_extension": ".py",
   "mimetype": "text/x-python",
   "name": "python",
   "nbconvert_exporter": "python",
   "pygments_lexer": "ipython3",
   "version": "3.12.7"
  }
 },
 "nbformat": 4,
 "nbformat_minor": 5
}
